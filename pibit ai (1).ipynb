{
 "cells": [
  {
   "cell_type": "code",
   "execution_count": null,
   "id": "ce14837a",
   "metadata": {},
   "outputs": [],
   "source": [
    "import json\n",
    "\n",
    "def parse_resume(resume_content):\n",
    "    # Your parsing logic here\n",
    "    parsed_resume = {\n",
    "        \"name\": \"Nicholas Nadar\",\n",
    "        \"contact_information\": {\n",
    "            \"email\": \"nn1758@srmist.edu.in\",\n",
    "            \"phone_number\": \"9967151801\",\n",
    "            \"address\": \"2/14, Kalaignar Street, Shanthi Nagar, Ramapuram, Chennai, Tamil Nadu 600089\"\n",
    "        },\n",
    "        \"education\": [\n",
    "            {\n",
    "                \"institution_name\": \"SRM University of Science and Tecnhnology\",\n",
    "                \"degree\": \"BTECH CSE AI&ML\",\n",
    "                \"start_date\": \"July 2021\",\n",
    "                \"end_date\": \"July 2025\",\n",
    "                \"field_of_study\": \"Computer Science\"\n",
    "            },\n",
    "        ],\n",
    "        \"skills\": [\"Python\", \"C++\"],\n",
    "        \"certifications\": [\"Udemy Certification\"],\n",
    "        \"languages\": [\"English\", \"Marathi\",\"Japanese\",\"Hindi\"],\n",
    "        \"projects\": [\n",
    "            {\n",
    "                \"name\": \"Cancer Prediction System\",\n",
    "                \"description\": \"This project is based on cancer prediction where my teammates and myself have used Machine learning Library known as Keras\",\n",
    "                \"technologies_used\": [\"Python\", \"HTML\"]\n",
    "            },\n",
    "            {\n",
    "                \"name\": \" Image to word Prediction for Animal Dataset\",\n",
    "                \"description\": \"This project consist of Animal image to word prediction using the Keras module along with cv2, matplotlib and numpy libraries to display images\",\n",
    "                \"technologies_used\": [\"Python\", \"HTML\"]\n",
    "            },\n",
    "        ]\n",
    "    }\n",
    "    return parsed_resume\n",
    "\n",
    "if __name__ == \"__main__\":\n",
    "    with open('C://Users//Sunny//Desktop//Nicholas Nadar Resume.csv', 'r') as file:\n",
    "        resume_content = file.read()\n",
    "    parsed_resume = parse_resume(resume_content)\n",
    "    print(json.dumps(parsed_resume, indent=2))"
   ]
  },
  {
   "cell_type": "code",
   "execution_count": null,
   "id": "5c465a16",
   "metadata": {},
   "outputs": [],
   "source": []
  }
 ],
 "metadata": {
  "kernelspec": {
   "display_name": "Python 3 (ipykernel)",
   "language": "python",
   "name": "python3"
  },
  "language_info": {
   "codemirror_mode": {
    "name": "ipython",
    "version": 3
   },
   "file_extension": ".py",
   "mimetype": "text/x-python",
   "name": "python",
   "nbconvert_exporter": "python",
   "pygments_lexer": "ipython3",
   "version": "3.9.13"
  }
 },
 "nbformat": 4,
 "nbformat_minor": 5
}
